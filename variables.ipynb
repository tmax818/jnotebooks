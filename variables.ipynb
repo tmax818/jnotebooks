{
 "cells": [
  {
   "cell_type": "code",
   "execution_count": 6,
   "metadata": {},
   "outputs": [
    {
     "name": "stdout",
     "output_type": "stream",
     "text": [
      "global\n",
      "in fun local\n",
      "in fun local g\n",
      "global\n"
     ]
    }
   ],
   "source": [
    "g_var = 'global'\n",
    "\n",
    "def some_func():\n",
    "    l_var = 'local'\n",
    "    g_var = 'local g'\n",
    "    print(\"in fun\", l_var)\n",
    "    print(\"in fun\", g_var)\n",
    "    \n",
    "#print(l_var)\n",
    "print(g_var)\n",
    "\n",
    "some_func()\n",
    "print(g_var)"
   ]
  },
  {
   "cell_type": "code",
   "execution_count": null,
   "metadata": {},
   "outputs": [],
   "source": []
  }
 ],
 "metadata": {
  "kernelspec": {
   "display_name": "Python 3",
   "language": "python",
   "name": "python3"
  },
  "language_info": {
   "codemirror_mode": {
    "name": "ipython",
    "version": 3
   },
   "file_extension": ".py",
   "mimetype": "text/x-python",
   "name": "python",
   "nbconvert_exporter": "python",
   "pygments_lexer": "ipython3",
   "version": "3.7.3"
  }
 },
 "nbformat": 4,
 "nbformat_minor": 2
}
